{
 "cells": [
  {
   "cell_type": "code",
   "execution_count": 1,
   "metadata": {},
   "outputs": [
    {
     "name": "stdout",
     "output_type": "stream",
     "text": [
      "{'first': 'Jennifer', 'last': 'Parrish', 'dob': datetime.date(1957, 10, 13), 'phone': '0713229992'}\n",
      "{'first': 'Lindsay', 'last': 'Bright', 'dob': datetime.date(2000, 12, 9), 'phone': '5714.0468'}\n",
      "{'first': 'Rachel', 'last': 'Morris', 'dob': datetime.date(1918, 5, 12), 'phone': '0402-027-591'}\n",
      "{'first': 'Thomas', 'last': 'Dalton', 'dob': datetime.date(1975, 3, 21), 'phone': '0434.532.265'}\n",
      "{'first': 'Kathryn', 'last': 'Ho', 'dob': datetime.date(1930, 6, 11), 'phone': '0435.567.182'}\n",
      "{'first': 'Bobby', 'last': 'Garcia', 'dob': datetime.date(1966, 8, 17), 'phone': '0481.364.522'}\n",
      "{'first': 'Michael', 'last': 'Marshall', 'dob': datetime.date(2000, 5, 3), 'phone': '79682647'}\n",
      "{'first': 'Elizabeth', 'last': 'Hunter', 'dob': datetime.date(1974, 1, 13), 'phone': '+61-472-923-662'}\n",
      "{'first': 'Ryan', 'last': 'Orozco', 'dob': datetime.date(2002, 10, 22), 'phone': '+61.3.0578.0809'}\n",
      "{'first': 'Melanie', 'last': 'Parks', 'dob': datetime.date(1957, 2, 25), 'phone': '+61 483 457 438'}\n",
      "{'first': 'Jennifer', 'last': 'Coleman', 'dob': datetime.date(1960, 3, 2), 'phone': '0446.333.922'}\n",
      "{'first': 'Sheila', 'last': 'Johnson', 'dob': datetime.date(1949, 3, 10), 'phone': '(02).4202.8588'}\n",
      "{'first': 'Terri', 'last': 'Carter', 'dob': datetime.date(1995, 8, 11), 'phone': '+61.473.560.860'}\n",
      "{'first': 'Kelly', 'last': 'Garcia', 'dob': datetime.date(1924, 11, 13), 'phone': '02-6064-5364'}\n",
      "{'first': 'Debra', 'last': 'Chavez', 'dob': datetime.date(1982, 12, 17), 'phone': '+61.7.7367.4856'}\n",
      "{'first': 'Nicolas', 'last': 'Richardson', 'dob': datetime.date(1919, 5, 11), 'phone': '0417.758.400'}\n",
      "{'first': 'Elizabeth', 'last': 'Walker', 'dob': datetime.date(1987, 8, 18), 'phone': '(03) 1523 4090'}\n",
      "{'first': 'Donald', 'last': 'Collins', 'dob': datetime.date(1965, 3, 3), 'phone': '02.2033.4910'}\n",
      "{'first': 'Laura', 'last': 'Adams', 'dob': datetime.date(1919, 5, 25), 'phone': '+61 7 2832 8266'}\n",
      "{'first': 'Betty', 'last': 'Richards', 'dob': datetime.date(1971, 6, 4), 'phone': '6166-0104'}\n",
      "{'first': 'Jacqueline', 'last': 'Smith', 'dob': datetime.date(1911, 6, 25), 'phone': '+61 471 017 907'}\n"
     ]
    }
   ],
   "source": [
    "from dataSeed import create_person\n",
    "\n",
    "create_person()"
   ]
  }
 ],
 "metadata": {
  "interpreter": {
   "hash": "aee8b7b246df8f9039afb4144a1f6fd8d2ca17a180786b69acc140d282b71a49"
  },
  "kernelspec": {
   "display_name": "Python 3.10.0 64-bit",
   "language": "python",
   "name": "python3"
  },
  "language_info": {
   "codemirror_mode": {
    "name": "ipython",
    "version": 3
   },
   "file_extension": ".py",
   "mimetype": "text/x-python",
   "name": "python",
   "nbconvert_exporter": "python",
   "pygments_lexer": "ipython3",
   "version": "3.10.0"
  },
  "orig_nbformat": 4
 },
 "nbformat": 4,
 "nbformat_minor": 2
}
