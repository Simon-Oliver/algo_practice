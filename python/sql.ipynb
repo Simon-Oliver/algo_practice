{
 "cells": [
  {
   "cell_type": "code",
   "execution_count": 24,
   "metadata": {},
   "outputs": [
    {
     "name": "stdout",
     "output_type": "stream",
     "text": [
      "[(7, 'Gonçalves', 39.62), (7, 'Köhler', 37.62), (7, 'Tremblay', 39.62), (7, 'Hansen', 39.62), (7, 'Wichterlová', 40.62), (7, 'Holý', 49.62), (7, 'Gruber', 42.62), (7, 'Peeters', 37.62), (7, 'Nielsen', 37.62), (7, 'Martins', 37.62), (7, 'Rocha', 37.62), (7, 'Almeida', 37.62), (7, 'Ramos', 37.62), (7, 'Philips', 37.62), (7, 'Peterson', 38.62), (7, 'Harris', 37.62), (7, 'Smith', 39.62), (7, 'Brooks', 37.62), (7, 'Goyer', 38.62), (7, 'Miller', 39.62), (7, 'Chase', 37.62), (7, 'Leacock', 39.62), (7, 'Gordon', 37.62), (7, 'Ralston', 43.62), (7, 'Stevens', 42.62), (7, 'Cunningham', 47.62), (7, 'Gray', 37.62), (7, 'Barnett', 43.62), (7, 'Brown', 37.62), (7, 'Francis', 37.62), (7, 'Silk', 37.62), (7, 'Mitchell', 37.62), (7, 'Sullivan', 37.62), (7, 'Fernandes', 39.62), (7, 'Sampaio', 37.62), (7, 'Schneider', 37.62), (7, 'Zimmermann', 43.62), (7, 'Schröder', 37.62), (7, 'Bernard', 38.62), (7, 'Lefebvre', 38.62), (7, 'Dubois', 37.62), (7, 'Girard', 39.62), (7, 'Mercier', 40.62), (7, 'Hämäläinen', 41.62), (7, 'Kovács', 45.62), (7, \"O'Reilly\", 45.62), (7, 'Mancini', 37.62), (7, 'Van der Berg', 40.62), (7, 'Wójcik', 37.62), (7, 'Muñoz', 37.62), (7, 'Johansson', 38.62), (7, 'Jones', 37.62), (7, 'Hughes', 37.62), (7, 'Murray', 37.62), (7, 'Taylor', 37.62), (7, 'Gutiérrez', 37.62), (7, 'Rojas', 46.62), (7, 'Pareek', 38.62), (6, 'Srivastava', 36.64)]\n"
     ]
    }
   ],
   "source": [
    "import sqlite3\n",
    "\n",
    "con = sqlite3.connect(\"../chinook.db\")\n",
    "cur = con.cursor()\n",
    "\n",
    "# cur.execute(\"\"\"\n",
    "# SELECT COUNT(AlbumId), ArtistId\n",
    "# FROM albums\n",
    "# GROUP BY ArtistId\n",
    "# \"\"\")\n",
    "\n",
    "# albums = cur.fetchall()\n",
    "\n",
    "# for album in albums:\n",
    "#     print(album)\n",
    "\n",
    "\n",
    "cur.execute(\"\"\"\n",
    "SELECT COUNT(customers.CustomerId),customers.LastName, ROUND(SUM(invoices.total),2)\n",
    "FROM customers\n",
    "INNER JOIN invoices ON invoices.CustomerId=customers.CustomerId\n",
    "GROUP BY customers.CustomerId\n",
    "\"\"\")\n",
    "\n",
    "customer = cur.fetchall()\n",
    "print(customer)"
   ]
  }
 ],
 "metadata": {
  "interpreter": {
   "hash": "aee8b7b246df8f9039afb4144a1f6fd8d2ca17a180786b69acc140d282b71a49"
  },
  "kernelspec": {
   "display_name": "Python 3.10.0 64-bit",
   "language": "python",
   "name": "python3"
  },
  "language_info": {
   "codemirror_mode": {
    "name": "ipython",
    "version": 3
   },
   "file_extension": ".py",
   "mimetype": "text/x-python",
   "name": "python",
   "nbconvert_exporter": "python",
   "pygments_lexer": "ipython3",
   "version": "3.10.0"
  },
  "orig_nbformat": 4
 },
 "nbformat": 4,
 "nbformat_minor": 2
}
